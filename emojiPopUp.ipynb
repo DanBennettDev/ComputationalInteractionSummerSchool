{
 "cells": [
  {
   "cell_type": "code",
   "execution_count": 2,
   "metadata": {},
   "outputs": [
    {
     "name": "stdout",
     "output_type": "stream",
     "text": [
      "🙄\n",
      "👨\n",
      "🕵\n",
      "👨‍🚀\n"
     ]
    }
   ],
   "source": [
    "import tkinter as tk\n",
    "import numpy as np\n",
    "import json\n",
    "import emoji\n",
    "import math\n",
    "\n",
    "# read emoji json, sort emojis by category into dictionary\n",
    "with open(\"./emoji.json\") as fin:\n",
    "    emoji_data = json.load(fin)\n",
    "fin.close()\n",
    "\n",
    "category_emojis = {}\n",
    "for item in emoji_data:\n",
    "    try:\n",
    "        if item[\"category\"] not in category_emojis.keys():\n",
    "            category_emojis.update({item[\"category\"]:[item[\"emoji\"]]})\n",
    "        else:\n",
    "            category_emojis[item[\"category\"]].append(item[\"emoji\"])\n",
    "    except:\n",
    "        continue\n",
    "\n",
    "# the function to print out the emoji you select(i.e., click)\n",
    "def click(row, col):\n",
    "    label.configure(text=\"you clicked row %s column %s\" % (row, col))\n",
    "    buttons[row][col].config(text='selected')\n",
    "    print(emoji_array[row][col])\n",
    "\n",
    "\n",
    "category = \"People\"   ## the category you have drawn on the screen \n",
    "number_of_columns = 15   ## design of the GUI layout: columns\n",
    "category_length = len(category_emojis[category])  \n",
    "number_of_rows = int(math.ceil(float(category_length)/float(number_of_columns))) ## design of the GUI layout: rows\n",
    "\n",
    "\n",
    "# retrieve the emoji text from the correct index, the emoji_array will be used when defining the button  \n",
    "emoji_array = []\n",
    "index = 0\n",
    "for row in range(0,number_of_rows):\n",
    "    this_row = []\n",
    "    for col in range(0,number_of_columns):\n",
    "        try:\n",
    "            this_row.append(category_emojis[category][index])\n",
    "            index += 1\n",
    "        except:\n",
    "            continue\n",
    "    emoji_array.append(this_row)\n",
    "    \n",
    "\n",
    "# show the GUI on the screen, a grid of emojis, click to print the selected emoji out \n",
    "root = tk.Tk()\n",
    "buttons = []\n",
    "for row in range(0,number_of_rows):\n",
    "    button_row = []\n",
    "    for col in range(0,number_of_columns):\n",
    "        try:\n",
    "            button = tk.Button(root, text=emoji_array[row][col], \n",
    "                           command=lambda row=row, col=col: click(row, col))\n",
    "            button.grid(row=row, column=col, sticky=\"nsew\")\n",
    "            button_row.append(button)\n",
    "        except:\n",
    "            continue\n",
    "    buttons.append(button_row)\n",
    "\n",
    "label = tk.Label(root, text=\"emojis\")\n",
    "label.grid(row=number_of_rows, column=1, columnspan=number_of_columns, sticky=\"new\")\n",
    "root.grid_rowconfigure(20, weight=1)\n",
    "root.grid_columnconfigure(20, weight=1)\n",
    "root.mainloop()"
   ]
  },
  {
   "cell_type": "code",
   "execution_count": 2,
   "metadata": {},
   "outputs": [
    {
     "name": "stdout",
     "output_type": "stream",
     "text": [
      "Collecting emoji\n",
      "  Downloading https://files.pythonhosted.org/packages/47/e7/cf76e0774b13459e61ffe16a042a35f42e292aeebba060b919c05b0854ab/emoji-0.5.0.tar.gz (41kB)\n",
      "Building wheels for collected packages: emoji\n",
      "  Running setup.py bdist_wheel for emoji: started\n",
      "  Running setup.py bdist_wheel for emoji: finished with status 'done'\n",
      "  Stored in directory: C:\\Users\\dan\\AppData\\Local\\pip\\Cache\\wheels\\5d\\60\\eb\\49bb6f75caa1bd0b277d43bd14ac3ea1db3e5ed030d2013852\n",
      "Successfully built emoji\n",
      "Installing collected packages: emoji\n",
      "Successfully installed emoji-0.5.0\n"
     ]
    }
   ],
   "source": []
  },
  {
   "cell_type": "code",
   "execution_count": null,
   "metadata": {},
   "outputs": [],
   "source": []
  }
 ],
 "metadata": {
  "kernelspec": {
   "display_name": "Python 2",
   "language": "python",
   "name": "python2"
  },
  "language_info": {
   "codemirror_mode": {
    "name": "ipython",
    "version": 2
   },
   "file_extension": ".py",
   "mimetype": "text/x-python",
   "name": "python",
   "nbconvert_exporter": "python",
   "pygments_lexer": "ipython2",
   "version": "2.7.13"
  }
 },
 "nbformat": 4,
 "nbformat_minor": 2
}
